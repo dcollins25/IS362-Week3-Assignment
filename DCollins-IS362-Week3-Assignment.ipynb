{
 "cells": [
  {
   "cell_type": "code",
   "execution_count": 1,
   "id": "e918c5bb",
   "metadata": {},
   "outputs": [],
   "source": [
    "# Import pandas"
   ]
  },
  {
   "cell_type": "code",
   "execution_count": 2,
   "id": "e1ba3b42",
   "metadata": {},
   "outputs": [],
   "source": [
    "import pandas as pd"
   ]
  },
  {
   "cell_type": "code",
   "execution_count": 3,
   "id": "0796fe72",
   "metadata": {},
   "outputs": [],
   "source": [
    "# Below is a sample list of daily mileage biked (Goolge Maps says NYC is 1436 miles!)"
   ]
  },
  {
   "cell_type": "code",
   "execution_count": 15,
   "id": "f425b0f5",
   "metadata": {},
   "outputs": [],
   "source": [
    "daily_miles = [55, 120, 80, 60, 70, 62, 79, 75, 59, 63, 65, 77, 82, 49, 59, 77, 70, 88, 64, 55, 27]"
   ]
  },
  {
   "cell_type": "code",
   "execution_count": 5,
   "id": "0e79cb10",
   "metadata": {},
   "outputs": [],
   "source": [
    "# Below calculates the cumulative miles"
   ]
  },
  {
   "cell_type": "code",
   "execution_count": 16,
   "id": "5a3e9f6d",
   "metadata": {},
   "outputs": [],
   "source": [
    "cumulative_miles = pd.Series(daily_miles).cumsum()"
   ]
  },
  {
   "cell_type": "code",
   "execution_count": 8,
   "id": "8628d835",
   "metadata": {},
   "outputs": [],
   "source": [
    "# Below creates a dataFrame to display both the miles biked each day and the miles accumulated at the end of each day"
   ]
  },
  {
   "cell_type": "code",
   "execution_count": 17,
   "id": "fe07a3b4",
   "metadata": {},
   "outputs": [],
   "source": [
    "mileage_df = pd.DataFrame({'Day': range(1, len(daily_miles) + 1),\n",
    "                           'Daily Miles': daily_miles,\n",
    "                           'Cumulative Miles': cumulative_miles})"
   ]
  },
  {
   "cell_type": "code",
   "execution_count": 10,
   "id": "8c57e4a3",
   "metadata": {},
   "outputs": [],
   "source": [
    "# print the dataFrame"
   ]
  },
  {
   "cell_type": "code",
   "execution_count": 18,
   "id": "0a32f75b",
   "metadata": {},
   "outputs": [
    {
     "name": "stdout",
     "output_type": "stream",
     "text": [
      "    Day  Daily Miles  Cumulative Miles\n",
      "0     1           55                55\n",
      "1     2          120               175\n",
      "2     3           80               255\n",
      "3     4           60               315\n",
      "4     5           70               385\n",
      "5     6           62               447\n",
      "6     7           79               526\n",
      "7     8           75               601\n",
      "8     9           59               660\n",
      "9    10           63               723\n",
      "10   11           65               788\n",
      "11   12           77               865\n",
      "12   13           82               947\n",
      "13   14           49               996\n",
      "14   15           59              1055\n",
      "15   16           77              1132\n",
      "16   17           70              1202\n",
      "17   18           88              1290\n",
      "18   19           64              1354\n",
      "19   20           55              1409\n",
      "20   21           27              1436\n"
     ]
    }
   ],
   "source": [
    "print(mileage_df)"
   ]
  }
 ],
 "metadata": {
  "kernelspec": {
   "display_name": "Python 3 (ipykernel)",
   "language": "python",
   "name": "python3"
  },
  "language_info": {
   "codemirror_mode": {
    "name": "ipython",
    "version": 3
   },
   "file_extension": ".py",
   "mimetype": "text/x-python",
   "name": "python",
   "nbconvert_exporter": "python",
   "pygments_lexer": "ipython3",
   "version": "3.9.13"
  }
 },
 "nbformat": 4,
 "nbformat_minor": 5
}
